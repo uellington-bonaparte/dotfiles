{
  "nbformat": 4,
  "nbformat_minor": 0,
  "metadata": {
    "celltoolbar": "Create Assignment",
    "kernelspec": {
      "display_name": "Python 3",
      "language": "python",
      "name": "python3"
    },
    "language_info": {
      "codemirror_mode": {
        "name": "ipython",
        "version": 3
      },
      "file_extension": ".py",
      "mimetype": "text/x-python",
      "name": "python",
      "nbconvert_exporter": "python",
      "pygments_lexer": "ipython3",
      "version": "3.8.3"
    },
    "colab": {
      "name": "TrabalhoFinal_Uellington.ipynb",
      "provenance": [],
      "collapsed_sections": [],
      "include_colab_link": true
    }
  },
  "cells": [
    {
      "cell_type": "markdown",
      "metadata": {
        "id": "view-in-github",
        "colab_type": "text"
      },
      "source": [
        "<a href=\"https://colab.research.google.com/github/uellington-bonaparte/dotfiles/blob/master/TrabalhoFinal_Uellington.ipynb\" target=\"_parent\"><img src=\"https://colab.research.google.com/assets/colab-badge.svg\" alt=\"Open In Colab\"/></a>"
      ]
    },
    {
      "cell_type": "markdown",
      "metadata": {
        "id": "EE_j_1v__-LS"
      },
      "source": [
        "## Trabalho Final - Ciência de Dados - Enap / 2021\r\n",
        "* ALUNO: UELLINGTON BONAPARTE ROQUES CÔRTES"
      ]
    },
    {
      "cell_type": "markdown",
      "metadata": {
        "id": "MAH86wTYlq4c"
      },
      "source": [
        "### Objetivo do estudo"
      ]
    },
    {
      "cell_type": "markdown",
      "metadata": {
        "id": "wDUPFCFaCVnF"
      },
      "source": [
        "O objetivo inicial deste projeto é analisar o perfil das apreensões realizadas pela Polícia Federal, comparando-os em quantidade e tipo de material entre os estados.\r\n",
        "\r\n",
        "A hipótese é de que as maiores apreensões são realizadas em estados mais desenvolvidos, como São Paulo e Rio de Janeiro. Devido a apresentação dos dados, não é possível definir o local exato da apreensão, restringindo a capilaridade dos dados aos estados.\r\n",
        "\r\n",
        "Tal estudo poderá possibilitar melhor entendimento das atividades do órgão, bem como melhoria na alocação de recursos.\r\n",
        "\r\n",
        "e avaliando a correspondência entre o valor dos bens apreendidos com o desenvolvimento do estado\r\n",
        "\r\n",
        "Futuramente, é desejável realização de outras análises, por exemplo a correspondência entre o valor dos bens apreendidos com o desenvolvimento do estado, subsidiando decisões em relação ao perdimento em nome do órgão e providências para sua alienação, reduzindo o custo de manter esses materiais em depósito, revertendo os recursos para outras prioridades o órgão e políticas públicas diversas.\r\n",
        "\r\n"
      ]
    },
    {
      "cell_type": "markdown",
      "metadata": {
        "id": "QFOvRf_0_-Lg"
      },
      "source": [
        "### Apresentação do Dataset"
      ]
    },
    {
      "cell_type": "markdown",
      "metadata": {
        "id": "MAnjZbzWA-dT"
      },
      "source": [
        "O nome do dataset deste projeto é \"**apreensoes_pf.csv**\" e contém dados de materiais apreendidos pela Polícia Federal ao longo dos anos de 2013 a 2021.\r\n",
        "\r\n",
        "As informações foram obtidas a partir de consulta analítica de apreensões gerado no portal https://bi.pf.gov.br (acesso restrito a servidores), interligado ao sistema de polícia judiciária (ePol). \r\n",
        "\r\n",
        "**O Único tratamento externo dos dados foi a conversão do arquivo .xlsx (excel) para .csv, devido a problemas no momento da carga dos dados no Google Colab**\r\n"
      ]
    },
    {
      "cell_type": "markdown",
      "metadata": {
        "id": "Tx2X5DVL_-Li"
      },
      "source": [
        "#### Link público do Google Drive para Download do Dataset"
      ]
    },
    {
      "cell_type": "markdown",
      "metadata": {
        "id": "KwfJEngiFpxs"
      },
      "source": [
        "https://drive.google.com/file/d/1tU-D5z3h70NcIThdN2bej8xoTYyYKmWw/view?usp=sharing"
      ]
    },
    {
      "cell_type": "code",
      "metadata": {
        "colab": {
          "base_uri": "https://localhost:8080/"
        },
        "id": "Vv_2oqf1ANM3",
        "outputId": "9ceefffe-ead5-4ff6-c019-8f1df0b5cba9"
      },
      "source": [
        "# Configura o google drive\n",
        "from google.colab import drive\n",
        "drive.mount('/content/drive')\n",
        "\n",
        "#caminho do arquivo de dados: '/content/drive/MyDrive/apreensoes_pf.csv'"
      ],
      "execution_count": 1,
      "outputs": [
        {
          "output_type": "stream",
          "text": [
            "Mounted at /content/drive\n"
          ],
          "name": "stdout"
        }
      ]
    },
    {
      "cell_type": "code",
      "metadata": {
        "id": "45ZZRwT_Dx9C"
      },
      "source": [
        "# importa módulos e bibliotecas utilizados\r\n",
        "import numpy as np\r\n",
        "import pandas as pd\r\n",
        "import seaborn as sns\r\n",
        "import re   # regex"
      ],
      "execution_count": 2,
      "outputs": []
    },
    {
      "cell_type": "markdown",
      "metadata": {
        "id": "D_ccx905_-Lj"
      },
      "source": [
        "### Motivação Pessoal"
      ]
    },
    {
      "cell_type": "markdown",
      "metadata": {
        "id": "3wnl3t3kGPVn"
      },
      "source": [
        "Sou Escrivão da Polícia Federal, lotado no Núcleo de Tecnologia e eventualmente apóio a Corregedoria extraindo e analisando dados de Polícia Judiciária. Devido ao meu cargo possuo conhecimento sobre dados de inquérito e apreensões, facilitando a análise dos dados obtidos e permitindo maior conhecimento do perfil de atuação do órgão em que trabalho."
      ]
    },
    {
      "cell_type": "markdown",
      "metadata": {
        "id": "aSkt2w8lvqN2"
      },
      "source": [
        "### Carregando os dados\r\n",
        "\r\n",
        "\r\n",
        "\r\n",
        "\r\n"
      ]
    },
    {
      "cell_type": "code",
      "metadata": {
        "colab": {
          "base_uri": "https://localhost:8080/",
          "height": 407
        },
        "id": "pusInnIBu_xC",
        "outputId": "7e18f13d-9526-40a8-a06a-66fcd339f51e"
      },
      "source": [
        "# carrega o arquivo de apreensões (fonte: bi.pf.gov.br > Estatísticas > Apreensões-Analítico)\n",
        "# Arquivo convertido para formato .csv (sem alteração/manipulação) pois não estava abrindo no formato .xlsx\n",
        "\n",
        "# path_apreensoes = '/content/sample_data/apreensoes_pf.csv'\n",
        "path_apreensoes = '/content/drive/MyDrive/apreensoes_pf.csv'\n",
        "\n",
        "# carrega a tabela apenas com as colunas Instauração, UF Apreensão, nº Apreensão, Tipo Material, Proc. Área de Atribuição\n",
        "apreensoes = pd.read_csv(path_apreensoes, sep=';', na_values=['-','*','*-'], encoding='latin1', usecols=[2, 3, 5, 9, 11, 38], names=['Procedimento','Instauracao','UF','Apreensao', 'Material', 'Area'], header=0)\n",
        "\n",
        "#Acrescenta a coluna ano calculada a partir da extração do campo 'Apreensao'\n",
        "apreensoes['Ano'] = apreensoes['Apreensao'].apply(lambda x: x.split('/')[-1]).astype(int)\n",
        "\n",
        "# CORRIGIR A CAPTURA DO ANO (REGEX)\n",
        "# apreensoes['Ano'] = apreensoes['Procedimento'].apply(lambda x: re.findall('((\\/|\\s)[1-2]\\d{3})', 'IPL 25/2010-4-DPF/AGA/TO')[0][0][1:]) #.astype(int) #\n",
        "\n",
        "#Reorganiza as colunas, eliminando a coluna 'Apreensao' (utilizada somente para identificar o ano)\n",
        "apreensoes = apreensoes[['UF', 'Material','Ano','Instauracao','Area']]\n",
        "apreensoes"
      ],
      "execution_count": 84,
      "outputs": [
        {
          "output_type": "execute_result",
          "data": {
            "text/html": [
              "<div>\n",
              "<style scoped>\n",
              "    .dataframe tbody tr th:only-of-type {\n",
              "        vertical-align: middle;\n",
              "    }\n",
              "\n",
              "    .dataframe tbody tr th {\n",
              "        vertical-align: top;\n",
              "    }\n",
              "\n",
              "    .dataframe thead th {\n",
              "        text-align: right;\n",
              "    }\n",
              "</style>\n",
              "<table border=\"1\" class=\"dataframe\">\n",
              "  <thead>\n",
              "    <tr style=\"text-align: right;\">\n",
              "      <th></th>\n",
              "      <th>UF</th>\n",
              "      <th>Material</th>\n",
              "      <th>Ano</th>\n",
              "      <th>Instauracao</th>\n",
              "      <th>Area</th>\n",
              "    </tr>\n",
              "  </thead>\n",
              "  <tbody>\n",
              "    <tr>\n",
              "      <th>0</th>\n",
              "      <td>SP</td>\n",
              "      <td>Produtos do tabaco e instrumentos</td>\n",
              "      <td>2013</td>\n",
              "      <td>Portaria</td>\n",
              "      <td>DFAZ</td>\n",
              "    </tr>\n",
              "    <tr>\n",
              "      <th>1</th>\n",
              "      <td>SP</td>\n",
              "      <td>Cédulas e moedas falsas</td>\n",
              "      <td>2013</td>\n",
              "      <td>Portaria</td>\n",
              "      <td>DFAZ</td>\n",
              "    </tr>\n",
              "    <tr>\n",
              "      <th>2</th>\n",
              "      <td>SP</td>\n",
              "      <td>Ordem política e social</td>\n",
              "      <td>2000</td>\n",
              "      <td>Portaria</td>\n",
              "      <td>DFAZ</td>\n",
              "    </tr>\n",
              "    <tr>\n",
              "      <th>3</th>\n",
              "      <td>AL</td>\n",
              "      <td>Entorpecentes</td>\n",
              "      <td>2010</td>\n",
              "      <td>Portaria</td>\n",
              "      <td>DIREN</td>\n",
              "    </tr>\n",
              "    <tr>\n",
              "      <th>4</th>\n",
              "      <td>AL</td>\n",
              "      <td>Materiais esportivos</td>\n",
              "      <td>2010</td>\n",
              "      <td>Portaria</td>\n",
              "      <td>DIREN</td>\n",
              "    </tr>\n",
              "    <tr>\n",
              "      <th>...</th>\n",
              "      <td>...</td>\n",
              "      <td>...</td>\n",
              "      <td>...</td>\n",
              "      <td>...</td>\n",
              "      <td>...</td>\n",
              "    </tr>\n",
              "    <tr>\n",
              "      <th>7271</th>\n",
              "      <td>PE</td>\n",
              "      <td>Documentos</td>\n",
              "      <td>2021</td>\n",
              "      <td>Portaria</td>\n",
              "      <td>DRC</td>\n",
              "    </tr>\n",
              "    <tr>\n",
              "      <th>7272</th>\n",
              "      <td>PE</td>\n",
              "      <td>Documentos</td>\n",
              "      <td>2021</td>\n",
              "      <td>Portaria</td>\n",
              "      <td>DRC</td>\n",
              "    </tr>\n",
              "    <tr>\n",
              "      <th>7273</th>\n",
              "      <td>PE</td>\n",
              "      <td>Documentos</td>\n",
              "      <td>2021</td>\n",
              "      <td>Portaria</td>\n",
              "      <td>DRC</td>\n",
              "    </tr>\n",
              "    <tr>\n",
              "      <th>7274</th>\n",
              "      <td>PE</td>\n",
              "      <td>Documentos</td>\n",
              "      <td>2021</td>\n",
              "      <td>Portaria</td>\n",
              "      <td>DRC</td>\n",
              "    </tr>\n",
              "    <tr>\n",
              "      <th>7275</th>\n",
              "      <td>PE</td>\n",
              "      <td>Documentos</td>\n",
              "      <td>2021</td>\n",
              "      <td>Portaria</td>\n",
              "      <td>NaN</td>\n",
              "    </tr>\n",
              "  </tbody>\n",
              "</table>\n",
              "<p>7276 rows × 5 columns</p>\n",
              "</div>"
            ],
            "text/plain": [
              "      UF                           Material   Ano Instauracao   Area\n",
              "0     SP  Produtos do tabaco e instrumentos  2013    Portaria   DFAZ\n",
              "1     SP            Cédulas e moedas falsas  2013    Portaria   DFAZ\n",
              "2     SP            Ordem política e social  2000    Portaria   DFAZ\n",
              "3     AL                      Entorpecentes  2010    Portaria  DIREN\n",
              "4     AL               Materiais esportivos  2010    Portaria  DIREN\n",
              "...   ..                                ...   ...         ...    ...\n",
              "7271  PE                         Documentos  2021    Portaria    DRC\n",
              "7272  PE                         Documentos  2021    Portaria    DRC\n",
              "7273  PE                         Documentos  2021    Portaria    DRC\n",
              "7274  PE                         Documentos  2021    Portaria    DRC\n",
              "7275  PE                         Documentos  2021    Portaria    NaN\n",
              "\n",
              "[7276 rows x 5 columns]"
            ]
          },
          "metadata": {
            "tags": []
          },
          "execution_count": 84
        }
      ]
    },
    {
      "cell_type": "code",
      "metadata": {
        "colab": {
          "base_uri": "https://localhost:8080/"
        },
        "id": "GiP0hJpO8oYD",
        "outputId": "ed9144e6-43b6-4afc-b031-595cdb1e4374"
      },
      "source": [
        "# CORRIGIR A CAPTURA DO ANO (REGEX)\r\n",
        "apreensoes['Ano'].unique()"
      ],
      "execution_count": 87,
      "outputs": [
        {
          "output_type": "execute_result",
          "data": {
            "text/plain": [
              "array([2013, 2000, 2010, 2015, 2011, 2021, 2020, 2014])"
            ]
          },
          "metadata": {
            "tags": []
          },
          "execution_count": 87
        }
      ]
    },
    {
      "cell_type": "code",
      "metadata": {
        "colab": {
          "base_uri": "https://localhost:8080/",
          "height": 35
        },
        "id": "IzPRX8AGz_lD",
        "outputId": "15f2d87c-a817-47ae-95de-70a6dbfd0aee"
      },
      "source": [
        "# TESTES DE REGEX PARA A CAPTURA DO ANO\r\n",
        "regex_ano = re.findall('(NC.{12})(\\d{4})','NC 08350002131202104-SR/PF/MG')[0][1]\r\n",
        "\r\n",
        "#  Padroes encontrados:\r\n",
        "# 12341/2021  IPL 25/2010-4-DPF/AGA/TO  IPL 2021.14867-DPF/GRA/PR   RDF 2021.14858-DPF/BGE/RS\r\n",
        "# TC 4/2021-4-SR/PF/CE  NC 2020.97402-SR/PF/AM RE 2021.6408-DPF/PGZ/PR NCV 2020.95886-SR/PF/ES\r\n",
        "\r\n",
        "# regex_ano = re.findall('((\\/|\\s)[1-2]\\d{3})','IPL 25/2010-4-DPF/AGA/TO')[0][0][1:]\r\n",
        "\r\n",
        "# regex_ano[0][1]\r\n",
        "regex_ano"
      ],
      "execution_count": 123,
      "outputs": [
        {
          "output_type": "execute_result",
          "data": {
            "application/vnd.google.colaboratory.intrinsic+json": {
              "type": "string"
            },
            "text/plain": [
              "'2021'"
            ]
          },
          "metadata": {
            "tags": []
          },
          "execution_count": 123
        }
      ]
    },
    {
      "cell_type": "markdown",
      "metadata": {
        "id": "FmiiHJyt_-Lk"
      },
      "source": [
        "### Investigação"
      ]
    },
    {
      "cell_type": "markdown",
      "metadata": {
        "id": "XFHPgTuOBUir"
      },
      "source": [
        "As análises iniciais buscaram identificar as unidades da Polícia Federal com maior número absoluto de apreensões, podendo-se destacar os estados de **São Paulo, Paraná e Mato Grosso do Sul**."
      ]
    },
    {
      "cell_type": "markdown",
      "metadata": {
        "id": "L6epsxromvNw"
      },
      "source": [
        "**(ANALISAR DADOS EM RELAÇÃO À MEDIANA, MÉDIA E DESVIO PADRÃO, DETERMINANDO UMA ESTIMATIVA POR UF)**"
      ]
    },
    {
      "cell_type": "code",
      "metadata": {
        "id": "AHlhwFVFCP27"
      },
      "source": [
        "# Agrupar tabela para mostrar todas as ocorrências de Materiais por UF\r\n",
        "total_uf = apreensoes[['UF', 'Material']]\r\n",
        "total = total_uf.groupby(['UF']).count()"
      ],
      "execution_count": 223,
      "outputs": []
    },
    {
      "cell_type": "code",
      "metadata": {
        "colab": {
          "base_uri": "https://localhost:8080/",
          "height": 386
        },
        "id": "FHyRzc8qTfdR",
        "outputId": "415ec470-d7c7-43a3-b8b9-77cef2d8c2c4"
      },
      "source": [
        "# Gráfico de barras horizontal mostrando as apreensões por estado\r\n",
        "sns.displot(total['Material'],kde=True, aspect=2)"
      ],
      "execution_count": 259,
      "outputs": [
        {
          "output_type": "execute_result",
          "data": {
            "text/plain": [
              "<seaborn.axisgrid.FacetGrid at 0x7f453cdb1910>"
            ]
          },
          "metadata": {
            "tags": []
          },
          "execution_count": 259
        },
        {
          "output_type": "display_data",
          "data": {
            "image/png": "[encoded data removed]",
            "text/plain": [
              "<Figure size 720x360 with 1 Axes>"
            ]
          },
          "metadata": {
            "tags": [],
            "needs_background": "light"
          }
        }
      ]
    },
    {
      "cell_type": "code",
      "metadata": {
        "colab": {
          "base_uri": "https://localhost:8080/",
          "height": 296
        },
        "id": "_5lZCPW3TA1g",
        "outputId": "8415cee6-891a-4263-acd7-c216d5512600"
      },
      "source": [
        "sns.countplot(x = 'UF', data=total_uf)"
      ],
      "execution_count": 218,
      "outputs": [
        {
          "output_type": "execute_result",
          "data": {
            "text/plain": [
              "<matplotlib.axes._subplots.AxesSubplot at 0x7f4541f73d10>"
            ]
          },
          "metadata": {
            "tags": []
          },
          "execution_count": 218
        },
        {
          "output_type": "display_data",
          "data": {
            "image/png": "[encoded data removed]",
            "text/plain": [
              "<Figure size 432x288 with 1 Axes>"
            ]
          },
          "metadata": {
            "tags": [],
            "needs_background": "light"
          }
        }
      ]
    },
    {
      "cell_type": "markdown",
      "metadata": {
        "id": "cfH1v-D0W-J2"
      },
      "source": [
        "Em relação ao tipo de material apreendido verifica-se diversas categorias, que vão desde animais silvestres e cigarros a entorpecentes, aeronaves, etc."
      ]
    },
    {
      "cell_type": "code",
      "metadata": {
        "colab": {
          "base_uri": "https://localhost:8080/",
          "height": 1000
        },
        "id": "TerLq5eIZED1",
        "outputId": "a8157779-e2f4-42f9-fb76-102c69854f5a"
      },
      "source": [
        "# Lista os tipos de materiais apreendidos\r\n",
        "tipo_material = pd.DataFrame(apreensoes['Material'].unique())\r\n",
        "qtd_ocorrencias = pd.DataFrame(apreensoes['Material'].value_counts())\r\n",
        "qtd_ocorrencias.head(50)"
      ],
      "execution_count": 262,
      "outputs": [
        {
          "output_type": "execute_result",
          "data": {
            "text/html": [
              "<div>\n",
              "<style scoped>\n",
              "    .dataframe tbody tr th:only-of-type {\n",
              "        vertical-align: middle;\n",
              "    }\n",
              "\n",
              "    .dataframe tbody tr th {\n",
              "        vertical-align: top;\n",
              "    }\n",
              "\n",
              "    .dataframe thead th {\n",
              "        text-align: right;\n",
              "    }\n",
              "</style>\n",
              "<table border=\"1\" class=\"dataframe\">\n",
              "  <thead>\n",
              "    <tr style=\"text-align: right;\">\n",
              "      <th></th>\n",
              "      <th>Material</th>\n",
              "    </tr>\n",
              "  </thead>\n",
              "  <tbody>\n",
              "    <tr>\n",
              "      <th>Documentos</th>\n",
              "      <td>1640</td>\n",
              "    </tr>\n",
              "    <tr>\n",
              "      <th>Aparelhos eletrônicos</th>\n",
              "      <td>1035</td>\n",
              "    </tr>\n",
              "    <tr>\n",
              "      <th>Produtos de informática</th>\n",
              "      <td>862</td>\n",
              "    </tr>\n",
              "    <tr>\n",
              "      <th>Entorpecentes</th>\n",
              "      <td>479</td>\n",
              "    </tr>\n",
              "    <tr>\n",
              "      <th>Cédulas e moedas falsas</th>\n",
              "      <td>473</td>\n",
              "    </tr>\n",
              "    <tr>\n",
              "      <th>Veículos</th>\n",
              "      <td>411</td>\n",
              "    </tr>\n",
              "    <tr>\n",
              "      <th>Cédulas e moedas legítimas</th>\n",
              "      <td>406</td>\n",
              "    </tr>\n",
              "    <tr>\n",
              "      <th>Objetos de uso pessoal</th>\n",
              "      <td>370</td>\n",
              "    </tr>\n",
              "    <tr>\n",
              "      <th>Aparelhos de comunicação</th>\n",
              "      <td>219</td>\n",
              "    </tr>\n",
              "    <tr>\n",
              "      <th>Produtos do tabaco e instrumentos</th>\n",
              "      <td>207</td>\n",
              "    </tr>\n",
              "    <tr>\n",
              "      <th>Utilidades domésticas</th>\n",
              "      <td>149</td>\n",
              "    </tr>\n",
              "    <tr>\n",
              "      <th>Materiais esportivos</th>\n",
              "      <td>140</td>\n",
              "    </tr>\n",
              "    <tr>\n",
              "      <th>Armas</th>\n",
              "      <td>123</td>\n",
              "    </tr>\n",
              "    <tr>\n",
              "      <th>Munições</th>\n",
              "      <td>119</td>\n",
              "    </tr>\n",
              "    <tr>\n",
              "      <th>Ordem política e social</th>\n",
              "      <td>95</td>\n",
              "    </tr>\n",
              "    <tr>\n",
              "      <th>Aparelhos de som</th>\n",
              "      <td>81</td>\n",
              "    </tr>\n",
              "    <tr>\n",
              "      <th>Máquinas/equipamentos agrícolas</th>\n",
              "      <td>55</td>\n",
              "    </tr>\n",
              "    <tr>\n",
              "      <th>Aparelhos eletrodomésticos</th>\n",
              "      <td>49</td>\n",
              "    </tr>\n",
              "    <tr>\n",
              "      <th>Produtos químicos</th>\n",
              "      <td>47</td>\n",
              "    </tr>\n",
              "    <tr>\n",
              "      <th>Embarcações e material de pesca</th>\n",
              "      <td>46</td>\n",
              "    </tr>\n",
              "    <tr>\n",
              "      <th>Materiais hospitalares</th>\n",
              "      <td>44</td>\n",
              "    </tr>\n",
              "    <tr>\n",
              "      <th>Produtos veterinários</th>\n",
              "      <td>24</td>\n",
              "    </tr>\n",
              "    <tr>\n",
              "      <th>Aparelhos de vídeo</th>\n",
              "      <td>22</td>\n",
              "    </tr>\n",
              "    <tr>\n",
              "      <th>Bebidas</th>\n",
              "      <td>21</td>\n",
              "    </tr>\n",
              "    <tr>\n",
              "      <th>Produtos de medidas</th>\n",
              "      <td>19</td>\n",
              "    </tr>\n",
              "    <tr>\n",
              "      <th>Materiais fotográficos</th>\n",
              "      <td>17</td>\n",
              "    </tr>\n",
              "    <tr>\n",
              "      <th>Brinquedos</th>\n",
              "      <td>17</td>\n",
              "    </tr>\n",
              "    <tr>\n",
              "      <th>Materiais de construção</th>\n",
              "      <td>15</td>\n",
              "    </tr>\n",
              "    <tr>\n",
              "      <th>Minérios</th>\n",
              "      <td>13</td>\n",
              "    </tr>\n",
              "    <tr>\n",
              "      <th>Aparelhos de ótica</th>\n",
              "      <td>10</td>\n",
              "    </tr>\n",
              "    <tr>\n",
              "      <th>Motocicletas</th>\n",
              "      <td>10</td>\n",
              "    </tr>\n",
              "    <tr>\n",
              "      <th>Pedras e metais preciosos</th>\n",
              "      <td>9</td>\n",
              "    </tr>\n",
              "    <tr>\n",
              "      <th>Produtos agrícolas e alimentícios</th>\n",
              "      <td>8</td>\n",
              "    </tr>\n",
              "    <tr>\n",
              "      <th>Material de informática</th>\n",
              "      <td>7</td>\n",
              "    </tr>\n",
              "    <tr>\n",
              "      <th>Aperelhos eletônicos</th>\n",
              "      <td>6</td>\n",
              "    </tr>\n",
              "    <tr>\n",
              "      <th>Animais</th>\n",
              "      <td>6</td>\n",
              "    </tr>\n",
              "    <tr>\n",
              "      <th>Frutos do mar</th>\n",
              "      <td>6</td>\n",
              "    </tr>\n",
              "    <tr>\n",
              "      <th>Produtos musicais</th>\n",
              "      <td>5</td>\n",
              "    </tr>\n",
              "    <tr>\n",
              "      <th>Midias</th>\n",
              "      <td>4</td>\n",
              "    </tr>\n",
              "    <tr>\n",
              "      <th>Combustíveis</th>\n",
              "      <td>3</td>\n",
              "    </tr>\n",
              "    <tr>\n",
              "      <th>Explosivos</th>\n",
              "      <td>2</td>\n",
              "    </tr>\n",
              "    <tr>\n",
              "      <th>Aeronaves</th>\n",
              "      <td>2</td>\n",
              "    </tr>\n",
              "  </tbody>\n",
              "</table>\n",
              "</div>"
            ],
            "text/plain": [
              "                                   Material\n",
              "Documentos                             1640\n",
              "Aparelhos eletrônicos                  1035\n",
              "Produtos de informática                 862\n",
              "Entorpecentes                           479\n",
              "Cédulas e moedas falsas                 473\n",
              "Veículos                                411\n",
              "Cédulas e moedas legítimas              406\n",
              "Objetos de uso pessoal                  370\n",
              "Aparelhos de comunicação                219\n",
              "Produtos do tabaco e instrumentos       207\n",
              "Utilidades domésticas                   149\n",
              "Materiais esportivos                    140\n",
              "Armas                                   123\n",
              "Munições                                119\n",
              "Ordem política e social                  95\n",
              "Aparelhos de som                         81\n",
              "Máquinas/equipamentos agrícolas          55\n",
              "Aparelhos eletrodomésticos               49\n",
              "Produtos químicos                        47\n",
              "Embarcações e material de pesca          46\n",
              "Materiais hospitalares                   44\n",
              "Produtos veterinários                    24\n",
              "Aparelhos de vídeo                       22\n",
              "Bebidas                                  21\n",
              "Produtos de medidas                      19\n",
              "Materiais fotográficos                   17\n",
              "Brinquedos                               17\n",
              "Materiais de construção                  15\n",
              "Minérios                                 13\n",
              "Aparelhos de ótica                       10\n",
              "Motocicletas                             10\n",
              "Pedras e metais preciosos                 9\n",
              "Produtos agrícolas e alimentícios         8\n",
              "Material de informática                   7\n",
              "Aperelhos eletônicos                      6\n",
              "Animais                                   6\n",
              "Frutos do mar                             6\n",
              "Produtos musicais                         5\n",
              "Midias                                    4\n",
              "Combustíveis                              3\n",
              "Explosivos                                2\n",
              "Aeronaves                                 2"
            ]
          },
          "metadata": {
            "tags": []
          },
          "execution_count": 262
        }
      ]
    },
    {
      "cell_type": "markdown",
      "metadata": {
        "id": "z-MnEpKTXle_"
      },
      "source": [
        "Os gráficos abaixo demonstram a concentração de apreensões por tipo de material, bem como os 10 tipos de materiais apreendidos com maior frequência pela Polícia Federal."
      ]
    },
    {
      "cell_type": "code",
      "metadata": {
        "id": "A8f3y2_sCCfq"
      },
      "source": [
        "# Conta a quantidade de apreensoes por tipo de material, agrupando-as por UF e Ano\r\n",
        "# Agrupar tabela para mostrar todas as ocorrências de Materiais por UF\r\n",
        "# total_uf = apreensoes[['UF', 'Material']]\r\n",
        "# total = total_uf.groupby(['UF']).count()\r\n",
        "\r\n",
        "apreensoes.set_index(['UF','Ano'])\r\n",
        "\r\n",
        "g_apreensoes = apreensoes.groupby([apreensoes['UF'],apreensoes['Material'],apreensoes['Ano']])\r\n",
        "g_apreensoes = apreensoes.groupby(['UF','Material']) #.reset_index(name='Qtde')\r\n",
        "\r\n",
        "# g_apreensoes.count()\r\n",
        "# apreensoes['Material'].unique\r\n",
        "# g_apreensoes.agg({'Material':'count'}) #.sort_values(by=['UF','Material'])"
      ],
      "execution_count": 237,
      "outputs": []
    },
    {
      "cell_type": "code",
      "metadata": {
        "id": "hIanMokYnWHR"
      },
      "source": [
        "# Gráfico exibindo os 10 materiais mais apreendidos\r\n",
        "tipo_material = pd.DataFrame(apreensoes['Material'].unique())\r\n",
        "qtd_ocorrencias = pd.DataFrame(apreensoes['Material'].value_counts())\r\n",
        "top10 = qtd_ocorrencias.sort_values(by='Material', ascending=False).head(10)\r\n",
        "top10"
      ],
      "execution_count": null,
      "outputs": []
    },
    {
      "cell_type": "code",
      "metadata": {
        "id": "7F0P95ho9bKK"
      },
      "source": [
        "# Gráfico de distribuição por tipo de material"
      ],
      "execution_count": 243,
      "outputs": []
    },
    {
      "cell_type": "markdown",
      "metadata": {
        "id": "emAjrHeaoEU9"
      },
      "source": [
        "As maiores apreensões dos Estados que lideram a lista de apreensãoes estão distribuídas da seguinte maneira:"
      ]
    },
    {
      "cell_type": "code",
      "metadata": {
        "id": "yFK8-u6u_-Ln",
        "colab": {
          "base_uri": "https://localhost:8080/",
          "height": 407
        },
        "outputId": "2c614191-461a-4199-9cfd-d38bf4a89050"
      },
      "source": [
        "# Maiores apreensões dos estados de São Paulo, Mato Grosso do Sul e Paraná\r\n",
        "sp = apreensoes[apreensoes['UF'] == 'SP']\r\n",
        "\r\n",
        "sp['Ano'] #.unique()\r\n",
        "sp"
      ],
      "execution_count": 266,
      "outputs": [
        {
          "output_type": "execute_result",
          "data": {
            "text/html": [
              "<div>\n",
              "<style scoped>\n",
              "    .dataframe tbody tr th:only-of-type {\n",
              "        vertical-align: middle;\n",
              "    }\n",
              "\n",
              "    .dataframe tbody tr th {\n",
              "        vertical-align: top;\n",
              "    }\n",
              "\n",
              "    .dataframe thead th {\n",
              "        text-align: right;\n",
              "    }\n",
              "</style>\n",
              "<table border=\"1\" class=\"dataframe\">\n",
              "  <thead>\n",
              "    <tr style=\"text-align: right;\">\n",
              "      <th></th>\n",
              "      <th>UF</th>\n",
              "      <th>Material</th>\n",
              "      <th>Ano</th>\n",
              "      <th>Instauracao</th>\n",
              "      <th>Area</th>\n",
              "    </tr>\n",
              "  </thead>\n",
              "  <tbody>\n",
              "    <tr>\n",
              "      <th>0</th>\n",
              "      <td>SP</td>\n",
              "      <td>Produtos do tabaco e instrumentos</td>\n",
              "      <td>2013</td>\n",
              "      <td>Portaria</td>\n",
              "      <td>DFAZ</td>\n",
              "    </tr>\n",
              "    <tr>\n",
              "      <th>1</th>\n",
              "      <td>SP</td>\n",
              "      <td>Cédulas e moedas falsas</td>\n",
              "      <td>2013</td>\n",
              "      <td>Portaria</td>\n",
              "      <td>DFAZ</td>\n",
              "    </tr>\n",
              "    <tr>\n",
              "      <th>2</th>\n",
              "      <td>SP</td>\n",
              "      <td>Ordem política e social</td>\n",
              "      <td>2000</td>\n",
              "      <td>Portaria</td>\n",
              "      <td>DFAZ</td>\n",
              "    </tr>\n",
              "    <tr>\n",
              "      <th>5</th>\n",
              "      <td>SP</td>\n",
              "      <td>Entorpecentes</td>\n",
              "      <td>2015</td>\n",
              "      <td>Portaria</td>\n",
              "      <td>DIREN</td>\n",
              "    </tr>\n",
              "    <tr>\n",
              "      <th>18</th>\n",
              "      <td>SP</td>\n",
              "      <td>Entorpecentes</td>\n",
              "      <td>2021</td>\n",
              "      <td>Portaria</td>\n",
              "      <td>DIREN</td>\n",
              "    </tr>\n",
              "    <tr>\n",
              "      <th>...</th>\n",
              "      <td>...</td>\n",
              "      <td>...</td>\n",
              "      <td>...</td>\n",
              "      <td>...</td>\n",
              "      <td>...</td>\n",
              "    </tr>\n",
              "    <tr>\n",
              "      <th>7204</th>\n",
              "      <td>SP</td>\n",
              "      <td>Entorpecentes</td>\n",
              "      <td>2021</td>\n",
              "      <td>NaN</td>\n",
              "      <td>NaN</td>\n",
              "    </tr>\n",
              "    <tr>\n",
              "      <th>7205</th>\n",
              "      <td>SP</td>\n",
              "      <td>Entorpecentes</td>\n",
              "      <td>2021</td>\n",
              "      <td>NaN</td>\n",
              "      <td>NaN</td>\n",
              "    </tr>\n",
              "    <tr>\n",
              "      <th>7206</th>\n",
              "      <td>SP</td>\n",
              "      <td>Entorpecentes</td>\n",
              "      <td>2021</td>\n",
              "      <td>NaN</td>\n",
              "      <td>NaN</td>\n",
              "    </tr>\n",
              "    <tr>\n",
              "      <th>7208</th>\n",
              "      <td>SP</td>\n",
              "      <td>Entorpecentes</td>\n",
              "      <td>2021</td>\n",
              "      <td>Portaria</td>\n",
              "      <td>DIREN</td>\n",
              "    </tr>\n",
              "    <tr>\n",
              "      <th>7210</th>\n",
              "      <td>SP</td>\n",
              "      <td>Produtos de informática</td>\n",
              "      <td>2021</td>\n",
              "      <td>NaN</td>\n",
              "      <td>DFAZ</td>\n",
              "    </tr>\n",
              "  </tbody>\n",
              "</table>\n",
              "<p>1238 rows × 5 columns</p>\n",
              "</div>"
            ],
            "text/plain": [
              "      UF                           Material   Ano Instauracao   Area\n",
              "0     SP  Produtos do tabaco e instrumentos  2013    Portaria   DFAZ\n",
              "1     SP            Cédulas e moedas falsas  2013    Portaria   DFAZ\n",
              "2     SP            Ordem política e social  2000    Portaria   DFAZ\n",
              "5     SP                      Entorpecentes  2015    Portaria  DIREN\n",
              "18    SP                      Entorpecentes  2021    Portaria  DIREN\n",
              "...   ..                                ...   ...         ...    ...\n",
              "7204  SP                      Entorpecentes  2021         NaN    NaN\n",
              "7205  SP                      Entorpecentes  2021         NaN    NaN\n",
              "7206  SP                      Entorpecentes  2021         NaN    NaN\n",
              "7208  SP                      Entorpecentes  2021    Portaria  DIREN\n",
              "7210  SP            Produtos de informática  2021         NaN   DFAZ\n",
              "\n",
              "[1238 rows x 5 columns]"
            ]
          },
          "metadata": {
            "tags": []
          },
          "execution_count": 266
        }
      ]
    },
    {
      "cell_type": "markdown",
      "metadata": {
        "id": "S9rVA9d4YcEe"
      },
      "source": [
        "Foram verificados também estados com maior número de apreensão de veículos, armas e entorpecentes."
      ]
    },
    {
      "cell_type": "code",
      "metadata": {
        "id": "8CWxsdZ3YaGm"
      },
      "source": [
        "# Estados com maior número de apreensoes de veículos, armas e entorpecentes\r\n",
        "veiculos = apreensoes[apreensoes['Materiais'] == 'Veículos']\r\n",
        "armas = apreensoes[apreensoes['Materiais'] == 'Armas']\r\n",
        "entorpecentes = apreensoes[apreensoes['Materiais'] == 'Entorpecentes']\r\n"
      ],
      "execution_count": null,
      "outputs": []
    },
    {
      "cell_type": "markdown",
      "metadata": {
        "id": "MeVG2sjy_-Ln"
      },
      "source": [
        "### Conclusões e Achados"
      ]
    },
    {
      "cell_type": "markdown",
      "metadata": {
        "id": "bXE3M5Ypcn_o"
      },
      "source": [
        "\r\n",
        "#### Quanto à quantidade de apreensões\r\n",
        "*   Como era de se esperar, **São Paulo é o estado com maior número de apreensões** absolutas, representando cerca de **XX% do total**.\r\n",
        "*   **Mato Grosso do Sul e Paraná estão em segundo e terceiro lugares**, respectivamente, no ranking de apreensões, à frente de Rio de Janeiro e Minas Gerais.Tal fato se explica pelo grande número apreensoes de produtos importados irregularmente, entorpecentes, veículos, etc...\r\n",
        "*   Uma possível explicação pela posição alcançada por Mato Grosso do Sul e Paraná, pode ter relação com a localização geográfica dos dois estados, fronteiras com Paraguai e Bolívia, com grande número apreensoes de produtos importados irregularmente, entorpecentes, veículos, etc... Entretanto, tal tese demanda outras análises estatísticas não estudadas neste projeto.\r\n"
      ]
    },
    {
      "cell_type": "markdown",
      "metadata": {
        "id": "kG-LpKc0hZVQ"
      },
      "source": [
        "\r\n",
        "#### Quanto ao tipo de material apreendido\r\n",
        "*   Verificou-se grande quantidade de documentos, equipamentos eletrônicos, e de informática, entorpecentes, cédulas falsas, veículos e dinheiro.\r\n",
        "*   Os estados que mais apreendem veículos, armas e entorpecentes, são os Estados de XXX.\r\n",
        "*   Devido à baixa granularidade dos dados estudados, não é possível determinar os tipos de crime e suas proporções em relação a estas apreensões, sendo certo que estão diluidas entre diversas tipificações penais.\r\n",
        "*   Tal análise pode ser aprofundada, utilizando-se os dados socio-econômicos do IBGE e de ocorrências criminais do Ministério da Justiça a fim de identificar eventuais correlações entre a taxa de criminalidade e outros indicadores. "
      ]
    }
  ]
}